{
 "cells": [
  {
   "attachments": {},
   "cell_type": "markdown",
   "metadata": {},
   "source": [
    "# Predict single number\n",
    "\n",
    "对单个手写数字/符号进行识别"
   ]
  },
  {
   "cell_type": "code",
   "execution_count": null,
   "metadata": {},
   "outputs": [
    {
     "name": "stdout",
     "output_type": "stream",
     "text": [
      "['(', ')', '0', '1', '2', '3', '4', '5', '6', '7', '8', '9', 'div', 'mul', 'plus', 'sub']\n",
      "1/1 [==============================] - 0s 206ms/step\n",
      "预测结果为： 3\n",
      "1/1 [==============================] - 0s 16ms/step\n",
      "预测结果为： mul\n",
      "1/1 [==============================] - 0s 17ms/step\n",
      "预测结果为： (\n",
      "1/1 [==============================] - 0s 19ms/step\n",
      "预测结果为： 3\n",
      "1/1 [==============================] - 0s 20ms/step\n",
      "预测结果为： sub\n",
      "1/1 [==============================] - 0s 17ms/step\n",
      "预测结果为： 8\n"
     ]
    }
   ],
   "source": [
    "import cv2\n",
    "import numpy as np\n",
    "from keras.models import load_model\n",
    "import os\n",
    "\n",
    "\n",
    "name = os.listdir('mnist+/mnist+/')\n",
    "print(name)\n",
    "model = load_model('cnn-lstm.h5')\n",
    "\n",
    "for i in range(6) :\n",
    "    path = f\"tmp/character_{i}.png\"\n",
    "    test = cv2.imread(path,0)\n",
    "    test  = test.reshape(1,test.shape[0],test.shape[1])\n",
    "    pred = model.predict(test/255)\n",
    "    pred = np.argmax(pred)\n",
    "    print('预测结果为：',name[pred])\n"
   ]
  }
 ],
 "metadata": {
  "kernelspec": {
   "display_name": "Mnist",
   "language": "python",
   "name": "python3"
  },
  "language_info": {
   "codemirror_mode": {
    "name": "ipython",
    "version": 3
   },
   "file_extension": ".py",
   "mimetype": "text/x-python",
   "name": "python",
   "nbconvert_exporter": "python",
   "pygments_lexer": "ipython3",
   "version": "3.9.16"
  },
  "orig_nbformat": 4
 },
 "nbformat": 4,
 "nbformat_minor": 2
}
